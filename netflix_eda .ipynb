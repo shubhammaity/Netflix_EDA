{
 "cells": [
  {
   "cell_type": "markdown",
   "id": "be476b81",
   "metadata": {},
   "source": [
    "# Netflix EDA analysis\n",
    "\n"
   ]
  },
  {
   "cell_type": "code",
   "execution_count": 1,
   "id": "7bf5a420",
   "metadata": {},
   "outputs": [],
   "source": [
    "#impoerting required libraries of python \n",
    "import numpy as np\n",
    "import pandas as pd\n",
    "import seaborn as sns\n",
    "import matplotlib.pyplot as plt"
   ]
  },
  {
   "cell_type": "markdown",
   "id": "9d4c9ab0",
   "metadata": {},
   "source": [
    "## About the data\n"
   ]
  },
  {
   "cell_type": "code",
   "execution_count": 2,
   "id": "4decd1b0",
   "metadata": {},
   "outputs": [
    {
     "data": {
      "text/html": [
       "<div>\n",
       "<style scoped>\n",
       "    .dataframe tbody tr th:only-of-type {\n",
       "        vertical-align: middle;\n",
       "    }\n",
       "\n",
       "    .dataframe tbody tr th {\n",
       "        vertical-align: top;\n",
       "    }\n",
       "\n",
       "    .dataframe thead th {\n",
       "        text-align: right;\n",
       "    }\n",
       "</style>\n",
       "<table border=\"1\" class=\"dataframe\">\n",
       "  <thead>\n",
       "    <tr style=\"text-align: right;\">\n",
       "      <th></th>\n",
       "      <th>show_id</th>\n",
       "      <th>type</th>\n",
       "      <th>title</th>\n",
       "      <th>director</th>\n",
       "      <th>cast</th>\n",
       "      <th>country</th>\n",
       "      <th>date_added</th>\n",
       "      <th>release_year</th>\n",
       "      <th>rating</th>\n",
       "      <th>duration</th>\n",
       "      <th>listed_in</th>\n",
       "      <th>description</th>\n",
       "    </tr>\n",
       "  </thead>\n",
       "  <tbody>\n",
       "    <tr>\n",
       "      <th>0</th>\n",
       "      <td>s1</td>\n",
       "      <td>Movie</td>\n",
       "      <td>Dick Johnson Is Dead</td>\n",
       "      <td>Kirsten Johnson</td>\n",
       "      <td>NaN</td>\n",
       "      <td>United States</td>\n",
       "      <td>September 25, 2021</td>\n",
       "      <td>2020</td>\n",
       "      <td>PG-13</td>\n",
       "      <td>90 min</td>\n",
       "      <td>Documentaries</td>\n",
       "      <td>As her father nears the end of his life, filmm...</td>\n",
       "    </tr>\n",
       "    <tr>\n",
       "      <th>1</th>\n",
       "      <td>s2</td>\n",
       "      <td>TV Show</td>\n",
       "      <td>Blood &amp; Water</td>\n",
       "      <td>NaN</td>\n",
       "      <td>Ama Qamata, Khosi Ngema, Gail Mabalane, Thaban...</td>\n",
       "      <td>South Africa</td>\n",
       "      <td>September 24, 2021</td>\n",
       "      <td>2021</td>\n",
       "      <td>TV-MA</td>\n",
       "      <td>2 Seasons</td>\n",
       "      <td>International TV Shows, TV Dramas, TV Mysteries</td>\n",
       "      <td>After crossing paths at a party, a Cape Town t...</td>\n",
       "    </tr>\n",
       "    <tr>\n",
       "      <th>2</th>\n",
       "      <td>s3</td>\n",
       "      <td>TV Show</td>\n",
       "      <td>Ganglands</td>\n",
       "      <td>Julien Leclercq</td>\n",
       "      <td>Sami Bouajila, Tracy Gotoas, Samuel Jouy, Nabi...</td>\n",
       "      <td>NaN</td>\n",
       "      <td>September 24, 2021</td>\n",
       "      <td>2021</td>\n",
       "      <td>TV-MA</td>\n",
       "      <td>1 Season</td>\n",
       "      <td>Crime TV Shows, International TV Shows, TV Act...</td>\n",
       "      <td>To protect his family from a powerful drug lor...</td>\n",
       "    </tr>\n",
       "    <tr>\n",
       "      <th>3</th>\n",
       "      <td>s4</td>\n",
       "      <td>TV Show</td>\n",
       "      <td>Jailbirds New Orleans</td>\n",
       "      <td>NaN</td>\n",
       "      <td>NaN</td>\n",
       "      <td>NaN</td>\n",
       "      <td>September 24, 2021</td>\n",
       "      <td>2021</td>\n",
       "      <td>TV-MA</td>\n",
       "      <td>1 Season</td>\n",
       "      <td>Docuseries, Reality TV</td>\n",
       "      <td>Feuds, flirtations and toilet talk go down amo...</td>\n",
       "    </tr>\n",
       "    <tr>\n",
       "      <th>4</th>\n",
       "      <td>s5</td>\n",
       "      <td>TV Show</td>\n",
       "      <td>Kota Factory</td>\n",
       "      <td>NaN</td>\n",
       "      <td>Mayur More, Jitendra Kumar, Ranjan Raj, Alam K...</td>\n",
       "      <td>India</td>\n",
       "      <td>September 24, 2021</td>\n",
       "      <td>2021</td>\n",
       "      <td>TV-MA</td>\n",
       "      <td>2 Seasons</td>\n",
       "      <td>International TV Shows, Romantic TV Shows, TV ...</td>\n",
       "      <td>In a city of coaching centers known to train I...</td>\n",
       "    </tr>\n",
       "  </tbody>\n",
       "</table>\n",
       "</div>"
      ],
      "text/plain": [
       "  show_id     type                  title         director  \\\n",
       "0      s1    Movie   Dick Johnson Is Dead  Kirsten Johnson   \n",
       "1      s2  TV Show          Blood & Water              NaN   \n",
       "2      s3  TV Show              Ganglands  Julien Leclercq   \n",
       "3      s4  TV Show  Jailbirds New Orleans              NaN   \n",
       "4      s5  TV Show           Kota Factory              NaN   \n",
       "\n",
       "                                                cast        country  \\\n",
       "0                                                NaN  United States   \n",
       "1  Ama Qamata, Khosi Ngema, Gail Mabalane, Thaban...   South Africa   \n",
       "2  Sami Bouajila, Tracy Gotoas, Samuel Jouy, Nabi...            NaN   \n",
       "3                                                NaN            NaN   \n",
       "4  Mayur More, Jitendra Kumar, Ranjan Raj, Alam K...          India   \n",
       "\n",
       "           date_added  release_year rating   duration  \\\n",
       "0  September 25, 2021          2020  PG-13     90 min   \n",
       "1  September 24, 2021          2021  TV-MA  2 Seasons   \n",
       "2  September 24, 2021          2021  TV-MA   1 Season   \n",
       "3  September 24, 2021          2021  TV-MA   1 Season   \n",
       "4  September 24, 2021          2021  TV-MA  2 Seasons   \n",
       "\n",
       "                                           listed_in  \\\n",
       "0                                      Documentaries   \n",
       "1    International TV Shows, TV Dramas, TV Mysteries   \n",
       "2  Crime TV Shows, International TV Shows, TV Act...   \n",
       "3                             Docuseries, Reality TV   \n",
       "4  International TV Shows, Romantic TV Shows, TV ...   \n",
       "\n",
       "                                         description  \n",
       "0  As her father nears the end of his life, filmm...  \n",
       "1  After crossing paths at a party, a Cape Town t...  \n",
       "2  To protect his family from a powerful drug lor...  \n",
       "3  Feuds, flirtations and toilet talk go down amo...  \n",
       "4  In a city of coaching centers known to train I...  "
      ]
     },
     "execution_count": 2,
     "metadata": {},
     "output_type": "execute_result"
    }
   ],
   "source": [
    "df = pd.read_csv('netflix_titles.csv')\n",
    "df.head()"
   ]
  },
  {
   "cell_type": "code",
   "execution_count": 3,
   "id": "8ddc5e19",
   "metadata": {},
   "outputs": [
    {
     "data": {
      "text/plain": [
       "(8807, 12)"
      ]
     },
     "execution_count": 3,
     "metadata": {},
     "output_type": "execute_result"
    }
   ],
   "source": [
    "df.shape"
   ]
  },
  {
   "cell_type": "code",
   "execution_count": 4,
   "id": "af596bb0",
   "metadata": {},
   "outputs": [
    {
     "data": {
      "text/html": [
       "<div>\n",
       "<style scoped>\n",
       "    .dataframe tbody tr th:only-of-type {\n",
       "        vertical-align: middle;\n",
       "    }\n",
       "\n",
       "    .dataframe tbody tr th {\n",
       "        vertical-align: top;\n",
       "    }\n",
       "\n",
       "    .dataframe thead th {\n",
       "        text-align: right;\n",
       "    }\n",
       "</style>\n",
       "<table border=\"1\" class=\"dataframe\">\n",
       "  <thead>\n",
       "    <tr style=\"text-align: right;\">\n",
       "      <th></th>\n",
       "      <th>release_year</th>\n",
       "    </tr>\n",
       "  </thead>\n",
       "  <tbody>\n",
       "    <tr>\n",
       "      <th>count</th>\n",
       "      <td>8807.000000</td>\n",
       "    </tr>\n",
       "    <tr>\n",
       "      <th>mean</th>\n",
       "      <td>2014.180198</td>\n",
       "    </tr>\n",
       "    <tr>\n",
       "      <th>std</th>\n",
       "      <td>8.819312</td>\n",
       "    </tr>\n",
       "    <tr>\n",
       "      <th>min</th>\n",
       "      <td>1925.000000</td>\n",
       "    </tr>\n",
       "    <tr>\n",
       "      <th>25%</th>\n",
       "      <td>2013.000000</td>\n",
       "    </tr>\n",
       "    <tr>\n",
       "      <th>50%</th>\n",
       "      <td>2017.000000</td>\n",
       "    </tr>\n",
       "    <tr>\n",
       "      <th>75%</th>\n",
       "      <td>2019.000000</td>\n",
       "    </tr>\n",
       "    <tr>\n",
       "      <th>max</th>\n",
       "      <td>2021.000000</td>\n",
       "    </tr>\n",
       "  </tbody>\n",
       "</table>\n",
       "</div>"
      ],
      "text/plain": [
       "       release_year\n",
       "count   8807.000000\n",
       "mean    2014.180198\n",
       "std        8.819312\n",
       "min     1925.000000\n",
       "25%     2013.000000\n",
       "50%     2017.000000\n",
       "75%     2019.000000\n",
       "max     2021.000000"
      ]
     },
     "execution_count": 4,
     "metadata": {},
     "output_type": "execute_result"
    }
   ],
   "source": [
    "df.describe()"
   ]
  },
  {
   "cell_type": "code",
   "execution_count": 5,
   "id": "87b46c14",
   "metadata": {},
   "outputs": [
    {
     "name": "stdout",
     "output_type": "stream",
     "text": [
      "<class 'pandas.core.frame.DataFrame'>\n",
      "RangeIndex: 8807 entries, 0 to 8806\n",
      "Data columns (total 12 columns):\n",
      " #   Column        Non-Null Count  Dtype \n",
      "---  ------        --------------  ----- \n",
      " 0   show_id       8807 non-null   object\n",
      " 1   type          8807 non-null   object\n",
      " 2   title         8807 non-null   object\n",
      " 3   director      6173 non-null   object\n",
      " 4   cast          7982 non-null   object\n",
      " 5   country       7976 non-null   object\n",
      " 6   date_added    8797 non-null   object\n",
      " 7   release_year  8807 non-null   int64 \n",
      " 8   rating        8803 non-null   object\n",
      " 9   duration      8804 non-null   object\n",
      " 10  listed_in     8807 non-null   object\n",
      " 11  description   8807 non-null   object\n",
      "dtypes: int64(1), object(11)\n",
      "memory usage: 825.8+ KB\n"
     ]
    }
   ],
   "source": [
    "df.info()"
   ]
  },
  {
   "cell_type": "code",
   "execution_count": 6,
   "id": "38c1b025",
   "metadata": {},
   "outputs": [],
   "source": [
    "df['date_added'] = pd.to_datetime(df['date_added'])"
   ]
  },
  {
   "cell_type": "code",
   "execution_count": 7,
   "id": "e1500b0b",
   "metadata": {},
   "outputs": [
    {
     "data": {
      "text/html": [
       "<div>\n",
       "<style scoped>\n",
       "    .dataframe tbody tr th:only-of-type {\n",
       "        vertical-align: middle;\n",
       "    }\n",
       "\n",
       "    .dataframe tbody tr th {\n",
       "        vertical-align: top;\n",
       "    }\n",
       "\n",
       "    .dataframe thead th {\n",
       "        text-align: right;\n",
       "    }\n",
       "</style>\n",
       "<table border=\"1\" class=\"dataframe\">\n",
       "  <thead>\n",
       "    <tr style=\"text-align: right;\">\n",
       "      <th></th>\n",
       "      <th>show_id</th>\n",
       "      <th>type</th>\n",
       "      <th>title</th>\n",
       "      <th>director</th>\n",
       "      <th>cast</th>\n",
       "      <th>country</th>\n",
       "      <th>date_added</th>\n",
       "      <th>release_year</th>\n",
       "      <th>rating</th>\n",
       "      <th>duration</th>\n",
       "      <th>listed_in</th>\n",
       "      <th>description</th>\n",
       "    </tr>\n",
       "  </thead>\n",
       "  <tbody>\n",
       "    <tr>\n",
       "      <th>0</th>\n",
       "      <td>s1</td>\n",
       "      <td>Movie</td>\n",
       "      <td>Dick Johnson Is Dead</td>\n",
       "      <td>Kirsten Johnson</td>\n",
       "      <td>NaN</td>\n",
       "      <td>United States</td>\n",
       "      <td>2021-09-25</td>\n",
       "      <td>2020</td>\n",
       "      <td>PG-13</td>\n",
       "      <td>90 min</td>\n",
       "      <td>Documentaries</td>\n",
       "      <td>As her father nears the end of his life, filmm...</td>\n",
       "    </tr>\n",
       "    <tr>\n",
       "      <th>1</th>\n",
       "      <td>s2</td>\n",
       "      <td>TV Show</td>\n",
       "      <td>Blood &amp; Water</td>\n",
       "      <td>NaN</td>\n",
       "      <td>Ama Qamata, Khosi Ngema, Gail Mabalane, Thaban...</td>\n",
       "      <td>South Africa</td>\n",
       "      <td>2021-09-24</td>\n",
       "      <td>2021</td>\n",
       "      <td>TV-MA</td>\n",
       "      <td>2 Seasons</td>\n",
       "      <td>International TV Shows, TV Dramas, TV Mysteries</td>\n",
       "      <td>After crossing paths at a party, a Cape Town t...</td>\n",
       "    </tr>\n",
       "    <tr>\n",
       "      <th>2</th>\n",
       "      <td>s3</td>\n",
       "      <td>TV Show</td>\n",
       "      <td>Ganglands</td>\n",
       "      <td>Julien Leclercq</td>\n",
       "      <td>Sami Bouajila, Tracy Gotoas, Samuel Jouy, Nabi...</td>\n",
       "      <td>NaN</td>\n",
       "      <td>2021-09-24</td>\n",
       "      <td>2021</td>\n",
       "      <td>TV-MA</td>\n",
       "      <td>1 Season</td>\n",
       "      <td>Crime TV Shows, International TV Shows, TV Act...</td>\n",
       "      <td>To protect his family from a powerful drug lor...</td>\n",
       "    </tr>\n",
       "    <tr>\n",
       "      <th>3</th>\n",
       "      <td>s4</td>\n",
       "      <td>TV Show</td>\n",
       "      <td>Jailbirds New Orleans</td>\n",
       "      <td>NaN</td>\n",
       "      <td>NaN</td>\n",
       "      <td>NaN</td>\n",
       "      <td>2021-09-24</td>\n",
       "      <td>2021</td>\n",
       "      <td>TV-MA</td>\n",
       "      <td>1 Season</td>\n",
       "      <td>Docuseries, Reality TV</td>\n",
       "      <td>Feuds, flirtations and toilet talk go down amo...</td>\n",
       "    </tr>\n",
       "    <tr>\n",
       "      <th>4</th>\n",
       "      <td>s5</td>\n",
       "      <td>TV Show</td>\n",
       "      <td>Kota Factory</td>\n",
       "      <td>NaN</td>\n",
       "      <td>Mayur More, Jitendra Kumar, Ranjan Raj, Alam K...</td>\n",
       "      <td>India</td>\n",
       "      <td>2021-09-24</td>\n",
       "      <td>2021</td>\n",
       "      <td>TV-MA</td>\n",
       "      <td>2 Seasons</td>\n",
       "      <td>International TV Shows, Romantic TV Shows, TV ...</td>\n",
       "      <td>In a city of coaching centers known to train I...</td>\n",
       "    </tr>\n",
       "  </tbody>\n",
       "</table>\n",
       "</div>"
      ],
      "text/plain": [
       "  show_id     type                  title         director  \\\n",
       "0      s1    Movie   Dick Johnson Is Dead  Kirsten Johnson   \n",
       "1      s2  TV Show          Blood & Water              NaN   \n",
       "2      s3  TV Show              Ganglands  Julien Leclercq   \n",
       "3      s4  TV Show  Jailbirds New Orleans              NaN   \n",
       "4      s5  TV Show           Kota Factory              NaN   \n",
       "\n",
       "                                                cast        country  \\\n",
       "0                                                NaN  United States   \n",
       "1  Ama Qamata, Khosi Ngema, Gail Mabalane, Thaban...   South Africa   \n",
       "2  Sami Bouajila, Tracy Gotoas, Samuel Jouy, Nabi...            NaN   \n",
       "3                                                NaN            NaN   \n",
       "4  Mayur More, Jitendra Kumar, Ranjan Raj, Alam K...          India   \n",
       "\n",
       "  date_added  release_year rating   duration  \\\n",
       "0 2021-09-25          2020  PG-13     90 min   \n",
       "1 2021-09-24          2021  TV-MA  2 Seasons   \n",
       "2 2021-09-24          2021  TV-MA   1 Season   \n",
       "3 2021-09-24          2021  TV-MA   1 Season   \n",
       "4 2021-09-24          2021  TV-MA  2 Seasons   \n",
       "\n",
       "                                           listed_in  \\\n",
       "0                                      Documentaries   \n",
       "1    International TV Shows, TV Dramas, TV Mysteries   \n",
       "2  Crime TV Shows, International TV Shows, TV Act...   \n",
       "3                             Docuseries, Reality TV   \n",
       "4  International TV Shows, Romantic TV Shows, TV ...   \n",
       "\n",
       "                                         description  \n",
       "0  As her father nears the end of his life, filmm...  \n",
       "1  After crossing paths at a party, a Cape Town t...  \n",
       "2  To protect his family from a powerful drug lor...  \n",
       "3  Feuds, flirtations and toilet talk go down amo...  \n",
       "4  In a city of coaching centers known to train I...  "
      ]
     },
     "execution_count": 7,
     "metadata": {},
     "output_type": "execute_result"
    }
   ],
   "source": [
    "df.head()"
   ]
  },
  {
   "cell_type": "markdown",
   "id": "77f1cc03",
   "metadata": {},
   "source": [
    "## Handling missing value"
   ]
  },
  {
   "cell_type": "code",
   "execution_count": 8,
   "id": "b3b8cc81",
   "metadata": {},
   "outputs": [
    {
     "data": {
      "text/plain": [
       "show_id            0\n",
       "type               0\n",
       "title              0\n",
       "director        2634\n",
       "cast             825\n",
       "country          831\n",
       "date_added        10\n",
       "release_year       0\n",
       "rating             4\n",
       "duration           3\n",
       "listed_in          0\n",
       "description        0\n",
       "dtype: int64"
      ]
     },
     "execution_count": 8,
     "metadata": {},
     "output_type": "execute_result"
    }
   ],
   "source": [
    "df.isnull().sum()"
   ]
  },
  {
   "cell_type": "code",
   "execution_count": 9,
   "id": "e4488ede",
   "metadata": {},
   "outputs": [
    {
     "data": {
      "text/plain": [
       "show_id          0\n",
       "type             0\n",
       "title            0\n",
       "director         0\n",
       "cast             0\n",
       "country          0\n",
       "date_added      10\n",
       "release_year     0\n",
       "rating           0\n",
       "duration         3\n",
       "listed_in        0\n",
       "description      0\n",
       "dtype: int64"
      ]
     },
     "execution_count": 9,
     "metadata": {},
     "output_type": "execute_result"
    }
   ],
   "source": [
    "df.fillna({'director':'unavailable', 'cast':'unavailable', 'country':'unavailable', 'rating':'unavailable'}, inplace = True)\n",
    "df.isnull().sum()"
   ]
  },
  {
   "cell_type": "code",
   "execution_count": 10,
   "id": "8b0b7475",
   "metadata": {},
   "outputs": [
    {
     "data": {
      "text/html": [
       "<div>\n",
       "<style scoped>\n",
       "    .dataframe tbody tr th:only-of-type {\n",
       "        vertical-align: middle;\n",
       "    }\n",
       "\n",
       "    .dataframe tbody tr th {\n",
       "        vertical-align: top;\n",
       "    }\n",
       "\n",
       "    .dataframe thead th {\n",
       "        text-align: right;\n",
       "    }\n",
       "</style>\n",
       "<table border=\"1\" class=\"dataframe\">\n",
       "  <thead>\n",
       "    <tr style=\"text-align: right;\">\n",
       "      <th></th>\n",
       "      <th>show_id</th>\n",
       "      <th>type</th>\n",
       "      <th>title</th>\n",
       "      <th>director</th>\n",
       "      <th>cast</th>\n",
       "      <th>country</th>\n",
       "      <th>date_added</th>\n",
       "      <th>release_year</th>\n",
       "      <th>rating</th>\n",
       "      <th>duration</th>\n",
       "      <th>listed_in</th>\n",
       "      <th>description</th>\n",
       "    </tr>\n",
       "  </thead>\n",
       "  <tbody>\n",
       "    <tr>\n",
       "      <th>6066</th>\n",
       "      <td>s6067</td>\n",
       "      <td>TV Show</td>\n",
       "      <td>A Young Doctor's Notebook and Other Stories</td>\n",
       "      <td>unavailable</td>\n",
       "      <td>Daniel Radcliffe, Jon Hamm, Adam Godley, Chris...</td>\n",
       "      <td>United Kingdom</td>\n",
       "      <td>NaT</td>\n",
       "      <td>2013</td>\n",
       "      <td>TV-MA</td>\n",
       "      <td>2 Seasons</td>\n",
       "      <td>British TV Shows, TV Comedies, TV Dramas</td>\n",
       "      <td>Set during the Russian Revolution, this comic ...</td>\n",
       "    </tr>\n",
       "    <tr>\n",
       "      <th>6174</th>\n",
       "      <td>s6175</td>\n",
       "      <td>TV Show</td>\n",
       "      <td>Anthony Bourdain: Parts Unknown</td>\n",
       "      <td>unavailable</td>\n",
       "      <td>Anthony Bourdain</td>\n",
       "      <td>United States</td>\n",
       "      <td>NaT</td>\n",
       "      <td>2018</td>\n",
       "      <td>TV-PG</td>\n",
       "      <td>5 Seasons</td>\n",
       "      <td>Docuseries</td>\n",
       "      <td>This CNN original series has chef Anthony Bour...</td>\n",
       "    </tr>\n",
       "    <tr>\n",
       "      <th>6795</th>\n",
       "      <td>s6796</td>\n",
       "      <td>TV Show</td>\n",
       "      <td>Frasier</td>\n",
       "      <td>unavailable</td>\n",
       "      <td>Kelsey Grammer, Jane Leeves, David Hyde Pierce...</td>\n",
       "      <td>United States</td>\n",
       "      <td>NaT</td>\n",
       "      <td>2003</td>\n",
       "      <td>TV-PG</td>\n",
       "      <td>11 Seasons</td>\n",
       "      <td>Classic &amp; Cult TV, TV Comedies</td>\n",
       "      <td>Frasier Crane is a snooty but lovable Seattle ...</td>\n",
       "    </tr>\n",
       "    <tr>\n",
       "      <th>6806</th>\n",
       "      <td>s6807</td>\n",
       "      <td>TV Show</td>\n",
       "      <td>Friends</td>\n",
       "      <td>unavailable</td>\n",
       "      <td>Jennifer Aniston, Courteney Cox, Lisa Kudrow, ...</td>\n",
       "      <td>United States</td>\n",
       "      <td>NaT</td>\n",
       "      <td>2003</td>\n",
       "      <td>TV-14</td>\n",
       "      <td>10 Seasons</td>\n",
       "      <td>Classic &amp; Cult TV, TV Comedies</td>\n",
       "      <td>This hit sitcom follows the merry misadventure...</td>\n",
       "    </tr>\n",
       "    <tr>\n",
       "      <th>6901</th>\n",
       "      <td>s6902</td>\n",
       "      <td>TV Show</td>\n",
       "      <td>Gunslinger Girl</td>\n",
       "      <td>unavailable</td>\n",
       "      <td>Yuuka Nanri, Kanako Mitsuhashi, Eri Sendai, Am...</td>\n",
       "      <td>Japan</td>\n",
       "      <td>NaT</td>\n",
       "      <td>2008</td>\n",
       "      <td>TV-14</td>\n",
       "      <td>2 Seasons</td>\n",
       "      <td>Anime Series, Crime TV Shows</td>\n",
       "      <td>On the surface, the Social Welfare Agency appe...</td>\n",
       "    </tr>\n",
       "    <tr>\n",
       "      <th>7196</th>\n",
       "      <td>s7197</td>\n",
       "      <td>TV Show</td>\n",
       "      <td>Kikoriki</td>\n",
       "      <td>unavailable</td>\n",
       "      <td>Igor Dmitriev</td>\n",
       "      <td>unavailable</td>\n",
       "      <td>NaT</td>\n",
       "      <td>2010</td>\n",
       "      <td>TV-Y</td>\n",
       "      <td>2 Seasons</td>\n",
       "      <td>Kids' TV</td>\n",
       "      <td>A wacky rabbit and his gang of animal pals hav...</td>\n",
       "    </tr>\n",
       "    <tr>\n",
       "      <th>7254</th>\n",
       "      <td>s7255</td>\n",
       "      <td>TV Show</td>\n",
       "      <td>La Familia P. Luche</td>\n",
       "      <td>unavailable</td>\n",
       "      <td>Eugenio Derbez, Consuelo Duval, Luis Manuel Áv...</td>\n",
       "      <td>United States</td>\n",
       "      <td>NaT</td>\n",
       "      <td>2012</td>\n",
       "      <td>TV-14</td>\n",
       "      <td>3 Seasons</td>\n",
       "      <td>International TV Shows, Spanish-Language TV Sh...</td>\n",
       "      <td>This irreverent sitcom featues Ludovico, Feder...</td>\n",
       "    </tr>\n",
       "    <tr>\n",
       "      <th>7406</th>\n",
       "      <td>s7407</td>\n",
       "      <td>TV Show</td>\n",
       "      <td>Maron</td>\n",
       "      <td>unavailable</td>\n",
       "      <td>Marc Maron, Judd Hirsch, Josh Brener, Nora Zeh...</td>\n",
       "      <td>United States</td>\n",
       "      <td>NaT</td>\n",
       "      <td>2016</td>\n",
       "      <td>TV-MA</td>\n",
       "      <td>4 Seasons</td>\n",
       "      <td>TV Comedies</td>\n",
       "      <td>Marc Maron stars as Marc Maron, who interviews...</td>\n",
       "    </tr>\n",
       "    <tr>\n",
       "      <th>7847</th>\n",
       "      <td>s7848</td>\n",
       "      <td>TV Show</td>\n",
       "      <td>Red vs. Blue</td>\n",
       "      <td>unavailable</td>\n",
       "      <td>Burnie Burns, Jason Saldaña, Gustavo Sorola, G...</td>\n",
       "      <td>United States</td>\n",
       "      <td>NaT</td>\n",
       "      <td>2015</td>\n",
       "      <td>NR</td>\n",
       "      <td>13 Seasons</td>\n",
       "      <td>TV Action &amp; Adventure, TV Comedies, TV Sci-Fi ...</td>\n",
       "      <td>This parody of first-person shooter games, mil...</td>\n",
       "    </tr>\n",
       "    <tr>\n",
       "      <th>8182</th>\n",
       "      <td>s8183</td>\n",
       "      <td>TV Show</td>\n",
       "      <td>The Adventures of Figaro Pho</td>\n",
       "      <td>unavailable</td>\n",
       "      <td>Luke Jurevicius, Craig Behenna, Charlotte Haml...</td>\n",
       "      <td>Australia</td>\n",
       "      <td>NaT</td>\n",
       "      <td>2015</td>\n",
       "      <td>TV-Y7</td>\n",
       "      <td>2 Seasons</td>\n",
       "      <td>Kids' TV, TV Comedies</td>\n",
       "      <td>Imagine your worst fears, then multiply them: ...</td>\n",
       "    </tr>\n",
       "  </tbody>\n",
       "</table>\n",
       "</div>"
      ],
      "text/plain": [
       "     show_id     type                                        title  \\\n",
       "6066   s6067  TV Show  A Young Doctor's Notebook and Other Stories   \n",
       "6174   s6175  TV Show              Anthony Bourdain: Parts Unknown   \n",
       "6795   s6796  TV Show                                      Frasier   \n",
       "6806   s6807  TV Show                                      Friends   \n",
       "6901   s6902  TV Show                              Gunslinger Girl   \n",
       "7196   s7197  TV Show                                     Kikoriki   \n",
       "7254   s7255  TV Show                          La Familia P. Luche   \n",
       "7406   s7407  TV Show                                        Maron   \n",
       "7847   s7848  TV Show                                 Red vs. Blue   \n",
       "8182   s8183  TV Show                 The Adventures of Figaro Pho   \n",
       "\n",
       "         director                                               cast  \\\n",
       "6066  unavailable  Daniel Radcliffe, Jon Hamm, Adam Godley, Chris...   \n",
       "6174  unavailable                                   Anthony Bourdain   \n",
       "6795  unavailable  Kelsey Grammer, Jane Leeves, David Hyde Pierce...   \n",
       "6806  unavailable  Jennifer Aniston, Courteney Cox, Lisa Kudrow, ...   \n",
       "6901  unavailable  Yuuka Nanri, Kanako Mitsuhashi, Eri Sendai, Am...   \n",
       "7196  unavailable                                      Igor Dmitriev   \n",
       "7254  unavailable  Eugenio Derbez, Consuelo Duval, Luis Manuel Áv...   \n",
       "7406  unavailable  Marc Maron, Judd Hirsch, Josh Brener, Nora Zeh...   \n",
       "7847  unavailable  Burnie Burns, Jason Saldaña, Gustavo Sorola, G...   \n",
       "8182  unavailable  Luke Jurevicius, Craig Behenna, Charlotte Haml...   \n",
       "\n",
       "             country date_added  release_year rating    duration  \\\n",
       "6066  United Kingdom        NaT          2013  TV-MA   2 Seasons   \n",
       "6174   United States        NaT          2018  TV-PG   5 Seasons   \n",
       "6795   United States        NaT          2003  TV-PG  11 Seasons   \n",
       "6806   United States        NaT          2003  TV-14  10 Seasons   \n",
       "6901           Japan        NaT          2008  TV-14   2 Seasons   \n",
       "7196     unavailable        NaT          2010   TV-Y   2 Seasons   \n",
       "7254   United States        NaT          2012  TV-14   3 Seasons   \n",
       "7406   United States        NaT          2016  TV-MA   4 Seasons   \n",
       "7847   United States        NaT          2015     NR  13 Seasons   \n",
       "8182       Australia        NaT          2015  TV-Y7   2 Seasons   \n",
       "\n",
       "                                              listed_in  \\\n",
       "6066           British TV Shows, TV Comedies, TV Dramas   \n",
       "6174                                         Docuseries   \n",
       "6795                     Classic & Cult TV, TV Comedies   \n",
       "6806                     Classic & Cult TV, TV Comedies   \n",
       "6901                       Anime Series, Crime TV Shows   \n",
       "7196                                           Kids' TV   \n",
       "7254  International TV Shows, Spanish-Language TV Sh...   \n",
       "7406                                        TV Comedies   \n",
       "7847  TV Action & Adventure, TV Comedies, TV Sci-Fi ...   \n",
       "8182                              Kids' TV, TV Comedies   \n",
       "\n",
       "                                            description  \n",
       "6066  Set during the Russian Revolution, this comic ...  \n",
       "6174  This CNN original series has chef Anthony Bour...  \n",
       "6795  Frasier Crane is a snooty but lovable Seattle ...  \n",
       "6806  This hit sitcom follows the merry misadventure...  \n",
       "6901  On the surface, the Social Welfare Agency appe...  \n",
       "7196  A wacky rabbit and his gang of animal pals hav...  \n",
       "7254  This irreverent sitcom featues Ludovico, Feder...  \n",
       "7406  Marc Maron stars as Marc Maron, who interviews...  \n",
       "7847  This parody of first-person shooter games, mil...  \n",
       "8182  Imagine your worst fears, then multiply them: ...  "
      ]
     },
     "execution_count": 10,
     "metadata": {},
     "output_type": "execute_result"
    }
   ],
   "source": [
    "df[df.date_added.isnull()]"
   ]
  },
  {
   "cell_type": "code",
   "execution_count": 11,
   "id": "40f9bb7c",
   "metadata": {},
   "outputs": [],
   "source": [
    "most_recent_date = df['date_added'].max()\n",
    "df.fillna({'date_added':most_recent_date}, inplace = True)"
   ]
  },
  {
   "cell_type": "code",
   "execution_count": 12,
   "id": "646302f1",
   "metadata": {},
   "outputs": [
    {
     "data": {
      "text/html": [
       "<div>\n",
       "<style scoped>\n",
       "    .dataframe tbody tr th:only-of-type {\n",
       "        vertical-align: middle;\n",
       "    }\n",
       "\n",
       "    .dataframe tbody tr th {\n",
       "        vertical-align: top;\n",
       "    }\n",
       "\n",
       "    .dataframe thead th {\n",
       "        text-align: right;\n",
       "    }\n",
       "</style>\n",
       "<table border=\"1\" class=\"dataframe\">\n",
       "  <thead>\n",
       "    <tr style=\"text-align: right;\">\n",
       "      <th></th>\n",
       "      <th>show_id</th>\n",
       "      <th>type</th>\n",
       "      <th>title</th>\n",
       "      <th>director</th>\n",
       "      <th>cast</th>\n",
       "      <th>country</th>\n",
       "      <th>date_added</th>\n",
       "      <th>release_year</th>\n",
       "      <th>rating</th>\n",
       "      <th>duration</th>\n",
       "      <th>listed_in</th>\n",
       "      <th>description</th>\n",
       "    </tr>\n",
       "  </thead>\n",
       "  <tbody>\n",
       "    <tr>\n",
       "      <th>7254</th>\n",
       "      <td>s7255</td>\n",
       "      <td>TV Show</td>\n",
       "      <td>La Familia P. Luche</td>\n",
       "      <td>unavailable</td>\n",
       "      <td>Eugenio Derbez, Consuelo Duval, Luis Manuel Áv...</td>\n",
       "      <td>United States</td>\n",
       "      <td>2021-09-25</td>\n",
       "      <td>2012</td>\n",
       "      <td>TV-14</td>\n",
       "      <td>3 Seasons</td>\n",
       "      <td>International TV Shows, Spanish-Language TV Sh...</td>\n",
       "      <td>This irreverent sitcom featues Ludovico, Feder...</td>\n",
       "    </tr>\n",
       "  </tbody>\n",
       "</table>\n",
       "</div>"
      ],
      "text/plain": [
       "     show_id     type                title     director  \\\n",
       "7254   s7255  TV Show  La Familia P. Luche  unavailable   \n",
       "\n",
       "                                                   cast        country  \\\n",
       "7254  Eugenio Derbez, Consuelo Duval, Luis Manuel Áv...  United States   \n",
       "\n",
       "     date_added  release_year rating   duration  \\\n",
       "7254 2021-09-25          2012  TV-14  3 Seasons   \n",
       "\n",
       "                                              listed_in  \\\n",
       "7254  International TV Shows, Spanish-Language TV Sh...   \n",
       "\n",
       "                                            description  \n",
       "7254  This irreverent sitcom featues Ludovico, Feder...  "
      ]
     },
     "execution_count": 12,
     "metadata": {},
     "output_type": "execute_result"
    }
   ],
   "source": [
    "df[df.show_id == 's7255']"
   ]
  },
  {
   "cell_type": "code",
   "execution_count": 13,
   "id": "d783c7fe",
   "metadata": {},
   "outputs": [
    {
     "data": {
      "text/html": [
       "<div>\n",
       "<style scoped>\n",
       "    .dataframe tbody tr th:only-of-type {\n",
       "        vertical-align: middle;\n",
       "    }\n",
       "\n",
       "    .dataframe tbody tr th {\n",
       "        vertical-align: top;\n",
       "    }\n",
       "\n",
       "    .dataframe thead th {\n",
       "        text-align: right;\n",
       "    }\n",
       "</style>\n",
       "<table border=\"1\" class=\"dataframe\">\n",
       "  <thead>\n",
       "    <tr style=\"text-align: right;\">\n",
       "      <th></th>\n",
       "      <th>show_id</th>\n",
       "      <th>type</th>\n",
       "      <th>title</th>\n",
       "      <th>director</th>\n",
       "      <th>cast</th>\n",
       "      <th>country</th>\n",
       "      <th>date_added</th>\n",
       "      <th>release_year</th>\n",
       "      <th>rating</th>\n",
       "      <th>duration</th>\n",
       "      <th>listed_in</th>\n",
       "      <th>description</th>\n",
       "    </tr>\n",
       "  </thead>\n",
       "  <tbody>\n",
       "    <tr>\n",
       "      <th>5541</th>\n",
       "      <td>s5542</td>\n",
       "      <td>Movie</td>\n",
       "      <td>Louis C.K. 2017</td>\n",
       "      <td>Louis C.K.</td>\n",
       "      <td>Louis C.K.</td>\n",
       "      <td>United States</td>\n",
       "      <td>2017-04-04</td>\n",
       "      <td>2017</td>\n",
       "      <td>74 min</td>\n",
       "      <td>NaN</td>\n",
       "      <td>Movies</td>\n",
       "      <td>Louis C.K. muses on religion, eternal love, gi...</td>\n",
       "    </tr>\n",
       "    <tr>\n",
       "      <th>5794</th>\n",
       "      <td>s5795</td>\n",
       "      <td>Movie</td>\n",
       "      <td>Louis C.K.: Hilarious</td>\n",
       "      <td>Louis C.K.</td>\n",
       "      <td>Louis C.K.</td>\n",
       "      <td>United States</td>\n",
       "      <td>2016-09-16</td>\n",
       "      <td>2010</td>\n",
       "      <td>84 min</td>\n",
       "      <td>NaN</td>\n",
       "      <td>Movies</td>\n",
       "      <td>Emmy-winning comedy writer Louis C.K. brings h...</td>\n",
       "    </tr>\n",
       "    <tr>\n",
       "      <th>5813</th>\n",
       "      <td>s5814</td>\n",
       "      <td>Movie</td>\n",
       "      <td>Louis C.K.: Live at the Comedy Store</td>\n",
       "      <td>Louis C.K.</td>\n",
       "      <td>Louis C.K.</td>\n",
       "      <td>United States</td>\n",
       "      <td>2016-08-15</td>\n",
       "      <td>2015</td>\n",
       "      <td>66 min</td>\n",
       "      <td>NaN</td>\n",
       "      <td>Movies</td>\n",
       "      <td>The comic puts his trademark hilarious/thought...</td>\n",
       "    </tr>\n",
       "  </tbody>\n",
       "</table>\n",
       "</div>"
      ],
      "text/plain": [
       "     show_id   type                                 title    director  \\\n",
       "5541   s5542  Movie                       Louis C.K. 2017  Louis C.K.   \n",
       "5794   s5795  Movie                 Louis C.K.: Hilarious  Louis C.K.   \n",
       "5813   s5814  Movie  Louis C.K.: Live at the Comedy Store  Louis C.K.   \n",
       "\n",
       "            cast        country date_added  release_year  rating duration  \\\n",
       "5541  Louis C.K.  United States 2017-04-04          2017  74 min      NaN   \n",
       "5794  Louis C.K.  United States 2016-09-16          2010  84 min      NaN   \n",
       "5813  Louis C.K.  United States 2016-08-15          2015  66 min      NaN   \n",
       "\n",
       "     listed_in                                        description  \n",
       "5541    Movies  Louis C.K. muses on religion, eternal love, gi...  \n",
       "5794    Movies  Emmy-winning comedy writer Louis C.K. brings h...  \n",
       "5813    Movies  The comic puts his trademark hilarious/thought...  "
      ]
     },
     "execution_count": 13,
     "metadata": {},
     "output_type": "execute_result"
    }
   ],
   "source": [
    "df[df.duration.isnull()]"
   ]
  },
  {
   "cell_type": "code",
   "execution_count": 14,
   "id": "be2457ab",
   "metadata": {},
   "outputs": [
    {
     "data": {
      "text/html": [
       "<div>\n",
       "<style scoped>\n",
       "    .dataframe tbody tr th:only-of-type {\n",
       "        vertical-align: middle;\n",
       "    }\n",
       "\n",
       "    .dataframe tbody tr th {\n",
       "        vertical-align: top;\n",
       "    }\n",
       "\n",
       "    .dataframe thead th {\n",
       "        text-align: right;\n",
       "    }\n",
       "</style>\n",
       "<table border=\"1\" class=\"dataframe\">\n",
       "  <thead>\n",
       "    <tr style=\"text-align: right;\">\n",
       "      <th></th>\n",
       "      <th>show_id</th>\n",
       "      <th>type</th>\n",
       "      <th>title</th>\n",
       "      <th>director</th>\n",
       "      <th>cast</th>\n",
       "      <th>country</th>\n",
       "      <th>date_added</th>\n",
       "      <th>release_year</th>\n",
       "      <th>rating</th>\n",
       "      <th>duration</th>\n",
       "      <th>listed_in</th>\n",
       "      <th>description</th>\n",
       "    </tr>\n",
       "  </thead>\n",
       "  <tbody>\n",
       "    <tr>\n",
       "      <th>5541</th>\n",
       "      <td>s5542</td>\n",
       "      <td>Movie</td>\n",
       "      <td>Louis C.K. 2017</td>\n",
       "      <td>Louis C.K.</td>\n",
       "      <td>Louis C.K.</td>\n",
       "      <td>United States</td>\n",
       "      <td>2017-04-04</td>\n",
       "      <td>2017</td>\n",
       "      <td>Unavailable</td>\n",
       "      <td>74 min</td>\n",
       "      <td>Movies</td>\n",
       "      <td>Louis C.K. muses on religion, eternal love, gi...</td>\n",
       "    </tr>\n",
       "    <tr>\n",
       "      <th>5794</th>\n",
       "      <td>s5795</td>\n",
       "      <td>Movie</td>\n",
       "      <td>Louis C.K.: Hilarious</td>\n",
       "      <td>Louis C.K.</td>\n",
       "      <td>Louis C.K.</td>\n",
       "      <td>United States</td>\n",
       "      <td>2016-09-16</td>\n",
       "      <td>2010</td>\n",
       "      <td>Unavailable</td>\n",
       "      <td>84 min</td>\n",
       "      <td>Movies</td>\n",
       "      <td>Emmy-winning comedy writer Louis C.K. brings h...</td>\n",
       "    </tr>\n",
       "    <tr>\n",
       "      <th>5813</th>\n",
       "      <td>s5814</td>\n",
       "      <td>Movie</td>\n",
       "      <td>Louis C.K.: Live at the Comedy Store</td>\n",
       "      <td>Louis C.K.</td>\n",
       "      <td>Louis C.K.</td>\n",
       "      <td>United States</td>\n",
       "      <td>2016-08-15</td>\n",
       "      <td>2015</td>\n",
       "      <td>Unavailable</td>\n",
       "      <td>66 min</td>\n",
       "      <td>Movies</td>\n",
       "      <td>The comic puts his trademark hilarious/thought...</td>\n",
       "    </tr>\n",
       "  </tbody>\n",
       "</table>\n",
       "</div>"
      ],
      "text/plain": [
       "     show_id   type                                 title    director  \\\n",
       "5541   s5542  Movie                       Louis C.K. 2017  Louis C.K.   \n",
       "5794   s5795  Movie                 Louis C.K.: Hilarious  Louis C.K.   \n",
       "5813   s5814  Movie  Louis C.K.: Live at the Comedy Store  Louis C.K.   \n",
       "\n",
       "            cast        country date_added  release_year       rating  \\\n",
       "5541  Louis C.K.  United States 2017-04-04          2017  Unavailable   \n",
       "5794  Louis C.K.  United States 2016-09-16          2010  Unavailable   \n",
       "5813  Louis C.K.  United States 2016-08-15          2015  Unavailable   \n",
       "\n",
       "     duration listed_in                                        description  \n",
       "5541   74 min    Movies  Louis C.K. muses on religion, eternal love, gi...  \n",
       "5794   84 min    Movies  Emmy-winning comedy writer Louis C.K. brings h...  \n",
       "5813   66 min    Movies  The comic puts his trademark hilarious/thought...  "
      ]
     },
     "execution_count": 14,
     "metadata": {},
     "output_type": "execute_result"
    }
   ],
   "source": [
    "df.loc[df['director'] == 'Louis C.K.','duration'] = df['rating']\n",
    "df.loc[df['director'] == 'Louis C.K.','rating'] = 'Unavailable'\n",
    "df[df.director == 'Louis C.K.'].head()"
   ]
  },
  {
   "cell_type": "markdown",
   "id": "8d4b19b6",
   "metadata": {},
   "source": [
    "## Visualizations"
   ]
  },
  {
   "cell_type": "code",
   "execution_count": 15,
   "id": "409e7efc",
   "metadata": {},
   "outputs": [
    {
     "data": {
      "text/plain": [
       "Movie      6131\n",
       "TV Show    2676\n",
       "Name: type, dtype: int64"
      ]
     },
     "execution_count": 15,
     "metadata": {},
     "output_type": "execute_result"
    }
   ],
   "source": [
    "df.type.value_counts()"
   ]
  },
  {
   "cell_type": "code",
   "execution_count": 16,
   "id": "c6ee0b81",
   "metadata": {},
   "outputs": [
    {
     "data": {
      "text/plain": [
       "Text(0.5, 1.0, 'Count vs Type of Shows')"
      ]
     },
     "execution_count": 16,
     "metadata": {},
     "output_type": "execute_result"
    },
    {
     "data": {
      "image/png": "[encoded data removed]",
      "text/plain": [
       "<Figure size 640x480 with 1 Axes>"
      ]
     },
     "metadata": {},
     "output_type": "display_data"
    }
   ],
   "source": [
    "sns.countplot(x = 'type' , data = df)\n",
    "plt.title('Count vs Type of Shows')"
   ]
  },
  {
   "cell_type": "code",
   "execution_count": 17,
   "id": "81d89484",
   "metadata": {},
   "outputs": [
    {
     "data": {
      "text/plain": [
       "United States     2818\n",
       "India              972\n",
       "unavailable        831\n",
       "United Kingdom     419\n",
       "Japan              245\n",
       "South Korea        199\n",
       "Canada             181\n",
       "Spain              145\n",
       "France             124\n",
       "Mexico             110\n",
       "Name: country, dtype: int64"
      ]
     },
     "execution_count": 17,
     "metadata": {},
     "output_type": "execute_result"
    }
   ],
   "source": [
    "df['country'].value_counts().head(10)"
   ]
  },
  {
   "cell_type": "code",
   "execution_count": 18,
   "id": "a8f69b0a",
   "metadata": {},
   "outputs": [
    {
     "data": {
      "text/plain": [
       "Text(0.5, 1.0, 'Country wise content on Netflix')"
      ]
     },
     "execution_count": 18,
     "metadata": {},
     "output_type": "execute_result"
    },
    {
     "data": {
      "image/png": "[encoded data removed]",
      "text/plain": [
       "<Figure size 1200x600 with 1 Axes>"
      ]
     },
     "metadata": {},
     "output_type": "display_data"
    }
   ],
   "source": [
    "plt.figure(figsize = (12,6))\n",
    "sns.countplot(x = 'country', order = df['country'].value_counts().index[0:10]  , data = df)\n",
    "plt.title('Country wise content on Netflix')"
   ]
  },
  {
   "cell_type": "code",
   "execution_count": 19,
   "id": "de0a6bbd",
   "metadata": {},
   "outputs": [],
   "source": [
    "movie_countries = df[df['type'] == 'Movie']\n",
    "tvshows_countries = df[df['type'] == 'TV Show']"
   ]
  },
  {
   "cell_type": "code",
   "execution_count": 20,
   "id": "9f4b98a7",
   "metadata": {},
   "outputs": [
    {
     "data": {
      "text/plain": [
       "Text(0.5, 1.0, 'Country wise movies on Netflix')"
      ]
     },
     "execution_count": 20,
     "metadata": {},
     "output_type": "execute_result"
    },
    {
     "data": {
      "image/png": "[encoded data removed]",
      "text/plain": [
       "<Figure size 1200x600 with 1 Axes>"
      ]
     },
     "metadata": {},
     "output_type": "display_data"
    }
   ],
   "source": [
    "plt.figure(figsize = (12,6))\n",
    "sns.countplot(x = 'country', order = df['country'].value_counts().index[0:10]  , data = movie_countries)\n",
    "plt.title('Country wise movies on Netflix')"
   ]
  },
  {
   "cell_type": "code",
   "execution_count": 21,
   "id": "381d9ce6",
   "metadata": {},
   "outputs": [
    {
     "data": {
      "text/plain": [
       "Text(0.5, 1.0, 'Country wise TV shows on Netflix')"
      ]
     },
     "execution_count": 21,
     "metadata": {},
     "output_type": "execute_result"
    },
    {
     "data": {
      "image/png": "[encoded data removed]",
      "text/plain": [
       "<Figure size 1200x600 with 1 Axes>"
      ]
     },
     "metadata": {},
     "output_type": "display_data"
    }
   ],
   "source": [
    "plt.figure(figsize = (12,6))\n",
    "sns.countplot(x = 'country', order = df['country'].value_counts().index[0:10]  , data = tvshows_countries )\n",
    "plt.title('Country wise TV shows on Netflix')"
   ]
  },
  {
   "cell_type": "code",
   "execution_count": 22,
   "id": "5a451452",
   "metadata": {},
   "outputs": [
    {
     "data": {
      "text/plain": [
       "TV-MA          3207\n",
       "TV-14          2160\n",
       "TV-PG           863\n",
       "R               799\n",
       "PG-13           490\n",
       "TV-Y7           334\n",
       "TV-Y            307\n",
       "PG              287\n",
       "TV-G            220\n",
       "NR               80\n",
       "G                41\n",
       "TV-Y7-FV          6\n",
       "unavailable       4\n",
       "NC-17             3\n",
       "Unavailable       3\n",
       "UR                3\n",
       "Name: rating, dtype: int64"
      ]
     },
     "execution_count": 22,
     "metadata": {},
     "output_type": "execute_result"
    }
   ],
   "source": [
    "df.rating.value_counts()"
   ]
  },
  {
   "cell_type": "code",
   "execution_count": 23,
   "id": "dbd0f7f8",
   "metadata": {},
   "outputs": [
    {
     "data": {
      "text/plain": [
       "Text(0.5, 1.0, 'Rating of shows on  netflix')"
      ]
     },
     "execution_count": 23,
     "metadata": {},
     "output_type": "execute_result"
    },
    {
     "data": {
      "image/png": "[encoded data removed]",
      "text/plain": [
       "<Figure size 1200x600 with 1 Axes>"
      ]
     },
     "metadata": {},
     "output_type": "display_data"
    }
   ],
   "source": [
    "plt.figure(figsize = (12,6))\n",
    "sns.countplot(x = 'rating', order = df['rating'].value_counts().index[0:10]  , data = df )\n",
    "plt.title('Rating of shows on  netflix')"
   ]
  },
  {
   "cell_type": "code",
   "execution_count": 24,
   "id": "dd1a6f38",
   "metadata": {},
   "outputs": [
    {
     "data": {
      "text/plain": [
       "2018    1147\n",
       "2017    1032\n",
       "2019    1030\n",
       "2020     953\n",
       "2016     902\n",
       "2021     592\n",
       "2015     560\n",
       "2014     352\n",
       "2013     288\n",
       "2012     237\n",
       "2010     194\n",
       "2011     185\n",
       "2009     152\n",
       "2008     136\n",
       "2006      96\n",
       "Name: release_year, dtype: int64"
      ]
     },
     "execution_count": 24,
     "metadata": {},
     "output_type": "execute_result"
    }
   ],
   "source": [
    "df.release_year.value_counts().head(15)"
   ]
  },
  {
   "cell_type": "code",
   "execution_count": 25,
   "id": "a5ab5336",
   "metadata": {},
   "outputs": [
    {
     "data": {
      "text/plain": [
       "Text(0.5, 1.0, 'Numnber of shows released on netflix by year ')"
      ]
     },
     "execution_count": 25,
     "metadata": {},
     "output_type": "execute_result"
    },
    {
     "data": {
      "image/png": "[encoded data removed]",
      "text/plain": [
       "<Figure size 1000x600 with 1 Axes>"
      ]
     },
     "metadata": {},
     "output_type": "display_data"
    }
   ],
   "source": [
    "plt.figure(figsize = (10,6))\n",
    "sns.countplot(x = 'release_year', order = df['release_year'].value_counts().index[0:15]  , data = df )\n",
    "plt.title('Numnber of shows released on netflix by year ')"
   ]
  },
  {
   "cell_type": "code",
   "execution_count": 26,
   "id": "e0af3d4f",
   "metadata": {},
   "outputs": [
    {
     "data": {
      "text/plain": [
       "Dramas, International Movies                        362\n",
       "Documentaries                                       359\n",
       "Stand-Up Comedy                                     334\n",
       "Comedies, Dramas, International Movies              274\n",
       "Dramas, Independent Movies, International Movies    252\n",
       "Kids' TV                                            220\n",
       "Children & Family Movies                            215\n",
       "Children & Family Movies, Comedies                  201\n",
       "Documentaries, International Movies                 186\n",
       "Dramas, International Movies, Romantic Movies       180\n",
       "Comedies, International Movies                      176\n",
       "Comedies, International Movies, Romantic Movies     152\n",
       "Dramas                                              138\n",
       "Dramas, International Movies, Thrillers             134\n",
       "Action & Adventure, Dramas, International Movies    132\n",
       "Name: listed_in, dtype: int64"
      ]
     },
     "execution_count": 26,
     "metadata": {},
     "output_type": "execute_result"
    }
   ],
   "source": [
    "df.listed_in.value_counts().head(15)"
   ]
  },
  {
   "cell_type": "code",
   "execution_count": 27,
   "id": "89b69ad1",
   "metadata": {},
   "outputs": [
    {
     "data": {
      "text/plain": [
       "Text(0.5, 1.0, 'Top 15 genres on Netflix')"
      ]
     },
     "execution_count": 27,
     "metadata": {},
     "output_type": "execute_result"
    },
    {
     "data": {
      "image/png": "[encoded data removed]",
      "text/plain": [
       "<Figure size 800x600 with 1 Axes>"
      ]
     },
     "metadata": {},
     "output_type": "display_data"
    }
   ],
   "source": [
    "plt.figure(figsize = (8,6))\n",
    "sns.countplot(y = 'listed_in', order = df['listed_in'].value_counts().index[0:15]  , data = df )\n",
    "plt.title('Top 15 genres on Netflix')"
   ]
  },
  {
   "cell_type": "markdown",
   "id": "7d245a24",
   "metadata": {},
   "source": [
    "### Summary\n",
    "\n",
    "We used a lot of operation on the current dataset and find out the following conclusion :-\n",
    " \n",
    "- There are more movies on Netflix than the Tv shows \n",
    "- Most number of movies and Tv shows are produced by USA\n",
    "- Most of the shows present on Netflix is for the mature audience\n",
    "- On year 2018 most number of content is realesed on Netflix\n",
    "- International movies and Dramas are the most popular genre on Netflix"
   ]
  },
  {
   "cell_type": "code",
   "execution_count": null,
   "id": "9d43491b",
   "metadata": {},
   "outputs": [],
   "source": []
  }
 ],
 "metadata": {
  "kernelspec": {
   "display_name": "Python 3 (ipykernel)",
   "language": "python",
   "name": "python3"
  },
  "language_info": {
   "codemirror_mode": {
    "name": "ipython",
    "version": 3
   },
   "file_extension": ".py",
   "mimetype": "text/x-python",
   "name": "python",
   "nbconvert_exporter": "python",
   "pygments_lexer": "ipython3",
   "version": "3.9.13"
  }
 },
 "nbformat": 4,
 "nbformat_minor": 5
}
